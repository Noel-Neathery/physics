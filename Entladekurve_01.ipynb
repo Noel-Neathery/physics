{
 "cells": [
  {
   "cell_type": "markdown",
   "metadata": {
    "slideshow": {
     "slide_type": "slide"
    }
   },
   "source": [
    "\n",
    "\n",
    "# Grundlagen der Elektrotechnik\n",
    "### Entladen eines Kondensators\n",
    "\n",
    "<img src=\"Kondensator.jpg\" style=\"width: 600px\" align=\"left\"/>\n",
    "\n"
   ]
  },
  {
   "cell_type": "markdown",
   "metadata": {
    "slideshow": {
     "slide_type": "slide"
    }
   },
   "source": [
    "## Grundlagen der Elektrotechnik\n",
    "### Beispiel: Entladekurve eines Kondensators\n"
   ]
  },
  {
   "cell_type": "markdown",
   "metadata": {
    "slideshow": {
     "slide_type": "slide"
    }
   },
   "source": [
    "\n",
    "### Beispiel: Entladekurve eines Kondensators\n",
    "\n",
    "\n",
    "\n",
    "\n",
    "Berechnung des Stroms in Abhängigkeit der Zeit\n",
    "\n",
    "$ I(t) = \\frac{U}{R}\\cdot e^{-t/(R\\cdot C)}$  \n",
    "\n",
    "$ I(t) = \\text{Strom} $  \n",
    "$ U = \\text{Spannung zum Zeitpunkt}\\, t = 0 $  \n",
    "$ R = \\text{Widerstand} $  \n",
    "$ C = \\text{Kapazität} $ "
   ]
  },
  {
   "cell_type": "code",
   "execution_count": 6,
   "metadata": {},
   "outputs": [
    {
     "name": "stdout",
     "output_type": "stream",
     "text": [
      "Note: you may need to restart the kernel to use updated packages.\n"
     ]
    },
    {
     "name": "stderr",
     "output_type": "stream",
     "text": [
      "Invalid requirement: 'from ipywidgets import interact, interactive, fixed, interact_manual'\n",
      "\n"
     ]
    }
   ],
   "source": [
    "pip install -r requirements.txt"
   ]
  },
  {
   "cell_type": "code",
   "execution_count": 5,
   "metadata": {},
   "outputs": [
    {
     "data": {
      "application/vnd.jupyter.widget-view+json": {
       "model_id": "7adc8f8410a5495289d0fc74cf96187f",
       "version_major": 2,
       "version_minor": 0
      },
      "text/plain": [
       "interactive(children=(FloatSlider(value=200.0, description='R', max=400.0, min=100.0, step=10.0), Output()), _…"
      ]
     },
     "metadata": {},
     "output_type": "display_data"
    },
    {
     "data": {
      "application/vnd.jupyter.widget-view+json": {
       "model_id": "52322412e61d46fb8038a9e005376d1d",
       "version_major": 2,
       "version_minor": 0
      },
      "text/plain": [
       "interactive(children=(FloatSlider(value=200.0, description='R', max=400.0, min=100.0, step=10.0), FloatSlider(…"
      ]
     },
     "metadata": {},
     "output_type": "display_data"
    },
    {
     "data": {
      "text/plain": [
       "<function __main__.I(R, t)>"
      ]
     },
     "execution_count": 5,
     "metadata": {},
     "output_type": "execute_result"
    }
   ],
   "source": [
    "\n",
    "def I(R):\n",
    "    U = 24 #Spannung in V\n",
    "    C = 4.0e-6 #Kapazität in F\n",
    "    t = np.linspace(0, 2) #Zeit in s\n",
    "    I = (U/R)*np.exp(-(t/1000)/(R*C))\n",
    "    figure(figsize=(9, 6), facecolor='lightgrey')\n",
    "    plt.rcParams.update({'font.size':14})\n",
    "    plt.plot(t, I, 'r', linewidth=3)\n",
    "    plt.ylim(0, 0.2)\n",
    "    plt.xlabel('Zeit in ms')\n",
    "    plt.ylabel('Strom in A')\n",
    "    plt.title('Entladung eines Kondensators')\n",
    "    plt.grid(color='k', linestyle='-', linewidth=1)\n",
    "\n",
    "interact(I, \n",
    "    R = widgets.FloatSlider(value=200, min=100, max=400, step=10)) #R in Ohm\n",
    "    \n",
    "    \n",
    "def I(R,t):\n",
    "    U = 24 #Spannung in V\n",
    "    C = 4.0e-6 #Kapazität in F\n",
    "    I = (U/R)*np.exp(-(t/1000)/(R*C))\n",
    "    print('Strom in A:',I)\n",
    "\n",
    "interact(I, \n",
    "    R = widgets.FloatSlider(value=200, min=100, max=400, step=10),\n",
    "    t = widgets.FloatSlider(value=1, min=0, max=2, step=0.1)\n",
    "    )\n"
   ]
  },
  {
   "cell_type": "code",
   "execution_count": null,
   "metadata": {},
   "outputs": [],
   "source": []
  }
 ],
 "metadata": {
  "celltoolbar": "Slideshow",
  "kernelspec": {
   "display_name": "Python 3",
   "language": "python",
   "name": "python3"
  },
  "language_info": {
   "codemirror_mode": {
    "name": "ipython",
    "version": 3
   },
   "file_extension": ".py",
   "mimetype": "text/x-python",
   "name": "python",
   "nbconvert_exporter": "python",
   "pygments_lexer": "ipython3",
   "version": "3.7.3"
  },
  "widgets": {
   "application/vnd.jupyter.widget-state+json": {
    "state": {},
    "version_major": 2,
    "version_minor": 0
   }
  }
 },
 "nbformat": 4,
 "nbformat_minor": 2
}
