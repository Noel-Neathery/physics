{
 "cells": [
  {
   "cell_type": "markdown",
   "metadata": {
    "slideshow": {
     "slide_type": "slide"
    }
   },
   "source": [
    "\n",
    "\n",
    "# Grundlagen der Elektrotechnik\n",
    "### Entladen eines Kondensators\n",
    "\n",
    "<img src=\"Kondensator.jpg\" style=\"width: 600px\" align=\"left\"/>\n",
    "\n"
   ]
  },
  {
   "cell_type": "markdown",
   "metadata": {
    "slideshow": {
     "slide_type": "slide"
    }
   },
   "source": [
    "## Grundlagen der Elektrotechnik\n",
    "### Beispiel: Entladekurve eines Kondensators\n"
   ]
  },
  {
   "cell_type": "markdown",
   "metadata": {
    "slideshow": {
     "slide_type": "slide"
    }
   },
   "source": [
    "\n",
    "### Beispiel: Entladekurve eines Kondensators\n",
    "\n",
    "\n",
    "\n",
    "\n",
    "Der Strom $I(t)$ wird mit Gleichung 1 in Abhängigkeit von der Zeit $t$ berechnet. \n",
    "\n",
    "$ I(t) = \\frac{U_0}{R}\\cdot e^{-t/(R\\cdot C)\\,\\,\\,}\\text{(Gl. 1)}$  \n",
    "\n",
    "$ I(t) = \\text{Strom} $  \n",
    "$ U_0 = \\text{Spannung zum Zeitpunkt}\\, t = 0 $  \n",
    "$ R = \\text{Widerstand} $  \n",
    "$ C = \\text{Kapazität} $"
   ]
  },
  {
   "cell_type": "code",
   "execution_count": 1,
   "metadata": {
    "slideshow": {
     "slide_type": "slide"
    }
   },
   "outputs": [],
   "source": [
    "from ipywidgets import interact, interactive, fixed, interact_manual\n",
    "import ipywidgets as widgets\n",
    "import matplotlib.pyplot as plt\n",
    "import numpy as np\n",
    "from matplotlib.pyplot import figure\n"
   ]
  },
  {
   "cell_type": "code",
   "execution_count": 2,
   "metadata": {
    "slideshow": {
     "slide_type": "slide"
    }
   },
   "outputs": [],
   "source": [
    "def I(R):\n",
    "    U = 24 #Spannung in V\n",
    "    C = 4.0e-6 #Kapazität in F\n",
    "    t = np.linspace(0, 2) #Zeit in s\n",
    "    I = (U/R)*np.exp(-(t/1000)/(R*C))\n",
    "    figure(figsize=(9, 6), facecolor='lightgrey')\n",
    "    plt.rcParams.update({'font.size':14})\n",
    "    plt.plot(t, I, 'r', linewidth=3)\n",
    "    plt.ylim(0, 0.2)\n",
    "    plt.xlabel('Zeit in ms')\n",
    "    plt.ylabel('Strom in A')\n",
    "    plt.title('Entladung eines Kondensators')\n",
    "    plt.grid(color='k', linestyle='-', linewidth=1)"
   ]
  },
  {
   "cell_type": "code",
   "execution_count": 3,
   "metadata": {
    "slideshow": {
     "slide_type": "slide"
    }
   },
   "outputs": [
    {
     "data": {
      "application/vnd.jupyter.widget-view+json": {
       "model_id": "86b942c5b011409eab736eb5f9bf505b",
       "version_major": 2,
       "version_minor": 0
      },
      "text/plain": [
       "interactive(children=(FloatSlider(value=200.0, description='R', max=400.0, min=100.0, step=10.0), Output()), _…"
      ]
     },
     "metadata": {},
     "output_type": "display_data"
    },
    {
     "data": {
      "text/plain": [
       "<function __main__.I(R)>"
      ]
     },
     "execution_count": 3,
     "metadata": {},
     "output_type": "execute_result"
    }
   ],
   "source": [
    "interact(I, \n",
    "    R = widgets.FloatSlider(value=200, min=100, max=400, step=10)) #R in Ohm"
   ]
  },
  {
   "cell_type": "code",
   "execution_count": 4,
   "metadata": {
    "slideshow": {
     "slide_type": "slide"
    }
   },
   "outputs": [
    {
     "data": {
      "application/vnd.jupyter.widget-view+json": {
       "model_id": "21048aee68b24364b13526b2b03b68cd",
       "version_major": 2,
       "version_minor": 0
      },
      "text/plain": [
       "interactive(children=(FloatSlider(value=200.0, description='R', max=400.0, min=100.0, step=10.0), FloatSlider(…"
      ]
     },
     "metadata": {},
     "output_type": "display_data"
    },
    {
     "data": {
      "text/plain": [
       "<function __main__.I(R, t)>"
      ]
     },
     "execution_count": 4,
     "metadata": {},
     "output_type": "execute_result"
    }
   ],
   "source": [
    "def I(R,t):\n",
    "    U = 24 #Spannung in V\n",
    "    C = 4.0e-6 #Kapazität in F\n",
    "    I = (U/R)*np.exp(-(t/1000)/(R*C))\n",
    "    print('Strom in A:',I)\n",
    "\n",
    "interact(I, \n",
    "    R = widgets.FloatSlider(value=200, min=100, max=400, step=10),\n",
    "    t = widgets.FloatSlider(value=1, min=0, max=2, step=0.1)\n",
    "    )\n"
   ]
  }
 ],
 "metadata": {
  "celltoolbar": "Slideshow",
  "kernelspec": {
   "display_name": "Python 3",
   "language": "python",
   "name": "python3"
  },
  "language_info": {
   "codemirror_mode": {
    "name": "ipython",
    "version": 3
   },
   "file_extension": ".py",
   "mimetype": "text/x-python",
   "name": "python",
   "nbconvert_exporter": "python",
   "pygments_lexer": "ipython3",
   "version": "3.7.3"
  },
  "widgets": {
   "application/vnd.jupyter.widget-state+json": {
    "state": {},
    "version_major": 2,
    "version_minor": 0
   }
  }
 },
 "nbformat": 4,
 "nbformat_minor": 2
}
