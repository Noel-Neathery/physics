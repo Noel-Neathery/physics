{
 "cells": [
  {
   "cell_type": "markdown",
   "metadata": {
    "slideshow": {
     "slide_type": "slide"
    }
   },
   "source": [
    "# Mathematisches Pendel\n",
    "[P. Kersten](https://www.hshl.de/personen/prof-dr-ing-peter-kersten), J. Jeschonowski, L.P. Kamegne-Kamdem, N.B. Neathery und D.M. Weis\n",
    "\n",
    "[Hochschule Hamm-Lippstadt](https://www.hshl.de), Marker Allee 76–78, D-59063 Hamm"
   ]
  },
  {
   "cell_type": "markdown",
   "metadata": {
    "slideshow": {
     "slide_type": "slide"
    }
   },
   "source": [
    "## Inhalt\n",
    "- Experimentelle Bestimmung der Schwingungsdauer $T$\n",
    "- Mit der Dimensionsanalyse und dem Experiment eine Formel für die Schwingungsdauer $T$ entwickeln\n",
    "- Den Wert für die Erdbeschleunigung $g$ experimentell ermitteln"
   ]
  },
  {
   "cell_type": "code",
   "execution_count": 1,
   "metadata": {
    "slideshow": {
     "slide_type": "notes"
    }
   },
   "outputs": [],
   "source": [
    "%matplotlib inline\n",
    "import numpy as np\n",
    "import sympy as sp\n",
    "import math as m\n",
    "import matplotlib.pyplot as plt\n",
    "import ipywidgets as widgets\n",
    "import scipy.optimize\n",
    "\n",
    "from ipywidgets import interact\n",
    "from sympy import symbols\n",
    "from sympy.plotting import plot3d\n",
    "from matplotlib.pyplot import figure\n",
    "\n",
    "from scipy.optimize import curve_fit"
   ]
  },
  {
   "cell_type": "markdown",
   "metadata": {
    "slideshow": {
     "slide_type": "slide"
    }
   },
   "source": [
    "## Experimentelle Bestimmung der Schwingungsdauer $T$\n",
    "\n",
    "Wir wollen die Schwingungsdauer $T$ eines mathematischen Pendels experimentell ermitteln. Gemäß der durchgeführten Dimensionsanalyse erwarten wir folgenden Zusammenhang:\n",
    "\n",
    "\n",
    "$T\\sim \\sqrt{\\frac{l}{g}}$\n",
    "\n",
    "Hierbei sind $l$ die Fadenlänge und $g$ die Erdbeschleunigung. Diesen Zusammenhang wollen wir experimentell mit einfachen Mitteln (ein kleines Gewicht, ein Zwirnsfaden, ein Maßband und eine Stoppuhr reichen aus) folgendermaßen überprüfen:\n",
    "\n",
    "- Wir messen die Schwingungsdauer $T$ für die Fadenlängen 0,50 m, 0,75 m, 1,00 m, 1,25 m und 1,5 m.\n",
    "\n",
    "- Um eine höhere Genauigkeit bei der Zeitmessung zu erzielen, messen wir 10 volle Schwingungen (also jeweil hin- und zurück).\n",
    "\n",
    "- Schreiben Sie die Meßwerte für die Fadenlänge (in der Einheit m) in den Vektor (variable `l`). \n",
    "\n",
    "- Schreiben Sie die Meßwerte für die Schwingungsdauer $T_{10}$ (in der Einheit s) in den Vektor (variable `T10`)."
   ]
  },
  {
   "cell_type": "code",
   "execution_count": 2,
   "metadata": {
    "slideshow": {
     "slide_type": "subslide"
    }
   },
   "outputs": [],
   "source": [
    "l = np.array([0.5, 0.75, 1.0, 1.25, 1.5]) # Messwerte der Fadenlänge\n",
    "T10 = np.array([13.8, 17.0, 19.6, 21.6, 22.0]) # Messwerte der Schwingunszeiten für 10 volle Schwingungen\n",
    "\n",
    "T = T10/10"
   ]
  },
  {
   "cell_type": "markdown",
   "metadata": {},
   "source": [
    "Nun können wir die Meßwerte grafisch darstellen."
   ]
  },
  {
   "cell_type": "code",
   "execution_count": 3,
   "metadata": {},
   "outputs": [
    {
     "data": {
      "text/plain": [
       "Text(0.5, 1.0, 'Das mathematische Pendel')"
      ]
     },
     "execution_count": 3,
     "metadata": {},
     "output_type": "execute_result"
    },
    {
     "data": {
      "image/png": "[encoded data removed]",
      "text/plain": [
       "<Figure size 432x288 with 1 Axes>"
      ]
     },
     "metadata": {
      "needs_background": "light"
     },
     "output_type": "display_data"
    }
   ],
   "source": [
    "plt.plot(l,T,'r',lw=2)\n",
    "plt.grid(color='k', linestyle='-', linewidth=1)\n",
    "plt.ylim(0, 3)\n",
    "plt.xlim(0.2, 1.8)\n",
    "plt.xlabel('Länge in m')\n",
    "plt.ylabel('Schwingungsdauer in s')\n",
    "plt.title('Das mathematische Pendel')"
   ]
  },
  {
   "cell_type": "markdown",
   "metadata": {},
   "source": [
    "\n",
    "## Mit der Dimensionsanalyse und dem Experiment eine Formel für die Schwingungsdauer $T$ entwickeln\n",
    "\n",
    "Wenn der vermutete Zusammenhang $T\\sim \\sqrt{\\frac{l}{g}}$ richtig ist, erwarten wir eine Funktionsverlauf der Form $T= \\alpha \\cdot l^{\\beta}$.\n",
    "\n",
    "Die Parameter $\\alpha$ und $\\beta$ können wir mit Hilfe einer Regressionsanalyse bestimmen."
   ]
  },
  {
   "cell_type": "code",
   "execution_count": 4,
   "metadata": {},
   "outputs": [
    {
     "name": "stdout",
     "output_type": "stream",
     "text": [
      "alpha: 1.9121234346738467\n",
      "beta 0.4253363181803931\n"
     ]
    }
   ],
   "source": [
    "def fit(x,a,b):\n",
    "    return a * x**b\n",
    "\n",
    "params, covariance = curve_fit(f = fit, xdata = l, ydata = T)\n",
    "\n",
    "print('alpha:', params[0])\n",
    "print('beta', params[1])"
   ]
  },
  {
   "cell_type": "markdown",
   "metadata": {},
   "source": [
    "## Den Wert für die Erdbeschleunigung $g$ experimentell ermitteln\n",
    "\n",
    "In Lehrbüchern finden wir folgende Formel für die Schwingungsdauer $T$ eines mathematischen Pendels:\n",
    "\n",
    "$T = 2 \\pi \\sqrt{\\frac{l}{g}}$\n",
    "\n",
    "Diese Formel ermöglicht uns, die Erdbeschleunigung $g$ mit Hilfe einer Regressionsanalyse aus unseren Messwerten zu ermitteln.\n",
    "\n",
    "Hierzu formen wir den Ausdruck für $T$ folgendermaßen um:   \n",
    "$T = 2 \\pi \\cdot ({\\frac{1}{g}})^{0,5} \\cdot (l)^{0,5}$\n",
    "\n",
    "Mit der Regression wird nun berechent, welcher optimaler Wert für $g$ resultiert, wenn sich die Meßwerte optimal an die exakte Formel anpassen sollen."
   ]
  },
  {
   "cell_type": "code",
   "execution_count": 5,
   "metadata": {},
   "outputs": [
    {
     "name": "stdout",
     "output_type": "stream",
     "text": [
      "g: 10.895802090267464\n"
     ]
    }
   ],
   "source": [
    "def fit1(x,g):\n",
    "    return 2*m.pi*x**0.5 * (1/g)**0.5\n",
    "\n",
    "params, covariance = curve_fit(f = fit1, xdata = l, ydata = T)\n",
    "print('g:', params[0])"
   ]
  }
 ],
 "metadata": {
  "celltoolbar": "Slideshow",
  "kernelspec": {
   "display_name": "Python 3",
   "language": "python",
   "name": "python3"
  },
  "language_info": {
   "codemirror_mode": {
    "name": "ipython",
    "version": 3
   },
   "file_extension": ".py",
   "mimetype": "text/x-python",
   "name": "python",
   "nbconvert_exporter": "python",
   "pygments_lexer": "ipython3",
   "version": "3.6.8"
  }
 },
 "nbformat": 4,
 "nbformat_minor": 2
}
