{
 "cells": [
  {
   "cell_type": "markdown",
   "metadata": {
    "slideshow": {
     "slide_type": "slide"
    }
   },
   "source": [
    "# Smarte und interaktive Kurzskripte (smartiS) \n",
    "\n",
    "[P. Kersten](https://www.hshl.de/personen/prof-dr-ing-peter-kersten), J. Jeschonowski, L.P. Kamegne-Kamdem, N.B. Neathery und D.M. Weis\n",
    "\n",
    "Hochschule Hamm-Lippstadt, Marker Allee 76–78, D-59063 Hamm"
   ]
  },
  {
   "cell_type": "markdown",
   "metadata": {
    "slideshow": {
     "slide_type": "slide"
    }
   },
   "source": [
    "# Bewegung in einer Dimension\n",
    "- Weg-Zeit-Diagramm\n",
    "- Geschwindigkeit-Zeit-Diagramm"
   ]
  },
  {
   "cell_type": "code",
   "execution_count": 1,
   "metadata": {
    "slideshow": {
     "slide_type": "notes"
    }
   },
   "outputs": [],
   "source": [
    "%matplotlib inline\n",
    "import numpy as np\n",
    "import sympy as sp\n",
    "import math as m\n",
    "import matplotlib.pyplot as plt\n",
    "import ipywidgets as widgets\n",
    "\n",
    "from ipywidgets import interact\n",
    "from sympy import symbols\n",
    "from sympy.plotting import plot3d\n",
    "from matplotlib.pyplot import figure"
   ]
  },
  {
   "cell_type": "markdown",
   "metadata": {
    "slideshow": {
     "slide_type": "slide"
    }
   },
   "source": [
    "## Weg-Zeit-Diagramm\n",
    "\n",
    "**Bewegung in einer Raumdimension mit konstanter Beschleunigung**   \n",
    "\n",
    "Den Ort $x(t)$ eines Masseteilchens kann folgendermaßen berechnet werden:\n",
    "\n",
    "$ x(t)= x_0 + v_o\\,\\cdot t + \\frac{1}{2} a\\,\\cdot t^2 $ \n",
    "\n",
    "Hierbei sind $x_0$ der Anfangsort und $v_0$ die Anfangsgeschwindigkeit (zum Zeitpunkt $t=0$) sowie $a$ die (konstante) Beschleunigung und $t$ die Zeit."
   ]
  },
  {
   "cell_type": "code",
   "execution_count": 2,
   "metadata": {
    "slideshow": {
     "slide_type": "subslide"
    }
   },
   "outputs": [
    {
     "data": {
      "application/vnd.jupyter.widget-view+json": {
       "model_id": "44c1554591524523b06177b82a171303",
       "version_major": 2,
       "version_minor": 0
      },
      "text/plain": [
       "interactive(children=(FloatSlider(value=0.0, description='x0', max=10.0, step=0.5), FloatSlider(value=0.0, des…"
      ]
     },
     "metadata": {},
     "output_type": "display_data"
    },
    {
     "data": {
      "text/plain": [
       "<function __main__.x(x0, v0, a)>"
      ]
     },
     "execution_count": 2,
     "metadata": {},
     "output_type": "execute_result"
    }
   ],
   "source": [
    "plt.rcParams[\"figure.figsize\"] = (10,10)\n",
    "def x(x0,v0,a):\n",
    "\n",
    "    t = np.linspace(0, 4)\n",
    "    x = x0 + v0*t + 1/2*a*t**2\n",
    "    plt.plot(t, x, 'r', linewidth=3)\n",
    "    plt.ylim(-5, 10)\n",
    "    plt.xlabel('Zeit in s')\n",
    "    plt.ylabel('Weg in m')\n",
    "    plt.title('Weg-Zeit-Diagramm')\n",
    "    plt.grid(color='k', linestyle='-', linewidth=1)\n",
    "    \n",
    "interact(x,\n",
    "         v0 = widgets.FloatSlider(value=0, min=-5.0, max=5.0, step=0.5), \n",
    "         x0 = widgets.FloatSlider(value=0, min=0, max=10.0, step=0.5),\n",
    "         a = widgets.FloatSlider(value=0, min=-10, max=10.0, step=0.1)\n",
    "        )"
   ]
  },
  {
   "cell_type": "markdown",
   "metadata": {},
   "source": [
    "## DIY\n",
    "Sie stehen auf einem Turm der Höhe $x_0=7\\,\\text{m}$ und werfen einen kleinen Stein mit der Geschwindigkeit $v_0=5 \\text{m/s}$ senkrecht nach oben. \n",
    "\n",
    "- Nach welcher Zeit erreicht der Stein seine maximale Höhe?\n",
    "- Nach welcher Zeit trifft der Stein auf dem Boden ($x=0$) auf?\n",
    "\n",
    "Die Anfangshöhe(variable `x0`), die Anfangsgeschwindigkeit (variable `v0`) und die Beschleunigung (variable `a`) können mithilfe der Schieberegler eingestellt werden."
   ]
  },
  {
   "cell_type": "markdown",
   "metadata": {},
   "source": [
    "## Geschwindigkeit-Zeit-Diagramm\n",
    "\n",
    "**Beispiel: Kontante Beschleunigung**   \n",
    "\n",
    "Die GEschwindigkeit $v(t)$ eines Masseteilchens kann folgendermaßen berechnet werden:\n",
    "\n",
    "$ v(t)= v_o\\,\\cdot + a\\,\\cdot t $ \n",
    "\n",
    "Hierbei sind $v_0$ die Anfangsgeschwindigkeit (zum Zeitpunkt $t=0$) und $a$ die Beschleunigung.\n"
   ]
  },
  {
   "cell_type": "code",
   "execution_count": 3,
   "metadata": {},
   "outputs": [
    {
     "data": {
      "application/vnd.jupyter.widget-view+json": {
       "model_id": "7e869ef503ad4c4aa870593240823e41",
       "version_major": 2,
       "version_minor": 0
      },
      "text/plain": [
       "interactive(children=(FloatSlider(value=0.0, description='v0', max=5.0, step=0.5), FloatSlider(value=0.0, desc…"
      ]
     },
     "metadata": {},
     "output_type": "display_data"
    },
    {
     "data": {
      "text/plain": [
       "<function __main__.v(v0, a)>"
      ]
     },
     "execution_count": 3,
     "metadata": {},
     "output_type": "execute_result"
    }
   ],
   "source": [
    "plt.rcParams[\"figure.figsize\"] = (10,10)\n",
    "def v(v0,a):\n",
    "\n",
    "    t = np.linspace(0, 2)\n",
    "    v = v0 + a*t\n",
    "    plt.plot(t, v, 'r', linewidth=3)\n",
    "    plt.ylim(-10, 10)\n",
    "    plt.xlabel('Zeit in s')\n",
    "    plt.ylabel('Geschwindigkeit in m/s')\n",
    "    plt.title('Geschwindigkeit-Zeit-Diagramm')\n",
    "    plt.grid(color='k', linestyle='-', linewidth=1)\n",
    "    \n",
    "interact(v,\n",
    "         v0 = widgets.FloatSlider(value=0, min=0, max=5.0, step=0.5), \n",
    "         a = widgets.FloatSlider(value=0, min=-10, max=10.0, step=0.1)\n",
    "        )"
   ]
  },
  {
   "cell_type": "markdown",
   "metadata": {},
   "source": [
    "## DIY\n",
    "Sie stehen auf einem Turm der Höhe $x_0=7\\,\\text{m}$ und werfen einen kleinen Stein mit der Geschwindigkeit $v_0=5 \\text{m/s}$ senkrecht nach oben. \n",
    "\n",
    "- Nach welcher Zeit erreicht der Stein seine maximale Höhe?\n",
    "- Mit welcher Geschwindigkeit trifft der Stein auf dem Boden auf?\n",
    "\n",
    "Die Anfangsgeschwindigkeit (variable `v0`) und die Beschleunigung (variable `a`) können mithilfe der Schieberegler eingestellt werden."
   ]
  },
  {
   "cell_type": "markdown",
   "metadata": {
    "slideshow": {
     "slide_type": "slide"
    }
   },
   "source": [
    "## Danksagung\n",
    "\n",
    "\n",
    "Dieses digitale Lehr-/Lernmaterial wurde im Rahmen des Programms [Fellowships für Innovationen in der digitalen Hochschullehre](https://www.stifterverband.org/digital-lehrfellows-nrw/2019/temmen_kersten) des Ministeriums für Kultur und Wissenschaft des Landes Nordrhein-Westfalen und des Stifterverbandes entwickelt. \n",
    "\n",
    "Die Autoren stellen dieses digitale Lehr-/Lernmateriales als Open Educational Ressources unter der Lizenz [Creative Commons Attribution-ShareAlike 4.0 International License (CC BY-SA 4.0)](https://creativecommons.org/licenses/by-sa/4.0/) zur Verfügung.\n",
    "\n",
    "\n",
    "    \n",
    "<img align=\"left\" src=\"https://licensebuttons.net/l/by-sa/3.0/88x31.png\">"
   ]
  }
 ],
 "metadata": {
  "celltoolbar": "Slideshow",
  "kernelspec": {
   "display_name": "Python 3",
   "language": "python",
   "name": "python3"
  },
  "language_info": {
   "codemirror_mode": {
    "name": "ipython",
    "version": 3
   },
   "file_extension": ".py",
   "mimetype": "text/x-python",
   "name": "python",
   "nbconvert_exporter": "python",
   "pygments_lexer": "ipython3",
   "version": "3.6.8"
  }
 },
 "nbformat": 4,
 "nbformat_minor": 2
}
