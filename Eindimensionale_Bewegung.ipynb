{
 "cells": [
  {
   "cell_type": "markdown",
   "metadata": {
    "slideshow": {
     "slide_type": "slide"
    }
   },
   "source": [
    "# Bewegung in einer Dimension\n",
    "[P. Kersten](https://www.hshl.de/personen/prof-dr-ing-peter-kersten), J. Jeschonowski, L.P. Kamegne-Kamdem, N.B. Neathery und D.M. Weis\n",
    "\n",
    "[Hochschule Hamm-Lippstadt](https://www.hshl.de), Marker Allee 76–78, D-59063 Hamm"
   ]
  },
  {
   "cell_type": "markdown",
   "metadata": {
    "slideshow": {
     "slide_type": "slide"
    }
   },
   "source": [
    "## Inhalt\n",
    "- Weg-Zeit-Diagramm\n",
    "- Geschwindigkeit-Zeit-Diagramm"
   ]
  },
  {
   "cell_type": "code",
   "execution_count": 1,
   "metadata": {
    "slideshow": {
     "slide_type": "notes"
    }
   },
   "outputs": [],
   "source": [
    "%matplotlib inline\n",
    "import numpy as np\n",
    "import sympy as sp\n",
    "import math as m\n",
    "import matplotlib.pyplot as plt\n",
    "import ipywidgets as widgets\n",
    "import scipy.optimize\n",
    "from ipywidgets import interact\n",
    "from sympy import symbols\n",
    "from sympy.plotting import plot3d\n",
    "from matplotlib.pyplot import figure\n",
    "from scipy.optimize import curve_fit"
   ]
  },
  {
   "cell_type": "markdown",
   "metadata": {
    "slideshow": {
     "slide_type": "slide"
    }
   },
   "source": [
    "## Weg-Zeit-Diagramm\n",
    "\n",
    "**Bewegung in einer Raumdimension mit konstanter Beschleunigung**   \n",
    "\n",
    "Den Ort $x(t)$ eines Masseteilchens kann in diesem Fall folgendermaßen berechnet werden:\n",
    "\n",
    "$ x(t)= x_0 + v_o\\,\\cdot t + \\frac{1}{2} a\\,\\cdot t^2 $ \n",
    "\n",
    "Hierbei sind $x_0$ der Anfangsort und $v_0$ die Anfangsgeschwindigkeit (zum Zeitpunkt $t=0$) sowie $a$ die (konstante) Beschleunigung und $t$ die Zeit."
   ]
  },
  {
   "cell_type": "code",
   "execution_count": 2,
   "metadata": {
    "slideshow": {
     "slide_type": "subslide"
    }
   },
   "outputs": [
    {
     "data": {
      "application/vnd.jupyter.widget-view+json": {
       "model_id": "982871fbcaa04e7ea66631970a53f5e1",
       "version_major": 2,
       "version_minor": 0
      },
      "text/plain": [
       "interactive(children=(FloatSlider(value=0.0, description='x0', max=10.0, step=0.5), FloatSlider(value=0.0, des…"
      ]
     },
     "metadata": {},
     "output_type": "display_data"
    },
    {
     "data": {
      "text/plain": [
       "<function __main__.x(x0, v0, a)>"
      ]
     },
     "execution_count": 2,
     "metadata": {},
     "output_type": "execute_result"
    }
   ],
   "source": [
    "# plt.rcParams[\"figure.figsize\"] = (10,10)\n",
    "def x(x0,v0,a):\n",
    "\n",
    "    t = np.linspace(0, 4)\n",
    "    x = x0 + v0*t + 1/2*a*t**2\n",
    "    plt.plot(t, x, 'r', linewidth=3)\n",
    "    plt.ylim(-5, 10)\n",
    "    plt.xlabel('Zeit in s')\n",
    "    plt.ylabel('Weg in m')\n",
    "    plt.title('Weg-Zeit-Diagramm')\n",
    "    plt.grid(color='k', linestyle='-', linewidth=1)\n",
    "    \n",
    "interact(x,\n",
    "         v0 = widgets.FloatSlider(value=0, min=-5.0, max=5.0, step=0.5), \n",
    "         x0 = widgets.FloatSlider(value=0, min=0, max=10.0, step=0.5),\n",
    "         a = widgets.FloatSlider(value=0, min=-10, max=10.0, step=0.1)\n",
    "        )"
   ]
  },
  {
   "cell_type": "markdown",
   "metadata": {},
   "source": [
    "## Knowledge Check(s)\n",
    "Sie stehen auf einem Turm der Höhe $x_0=7\\,\\text{m}$ und werfen einen kleinen Stein mit der Geschwindigkeit $v_0=5 \\text{m/s}$ senkrecht nach oben. \n",
    "\n",
    "- Nach welcher Zeit erreicht der Stein seine maximale Steighöhe?\n",
    "- Nach welcher Zeit trifft der Stein auf dem Boden ($x=0$) auf?\n",
    "\n",
    "Die Anfangshöhe(variable `x0`), die Anfangsgeschwindigkeit (variable `v0`) und die Beschleunigung (variable `a`) können mithilfe der Schieberegler eingestellt werden."
   ]
  },
  {
   "cell_type": "markdown",
   "metadata": {},
   "source": [
    "## Geschwindigkeit-Zeit-Diagramm\n",
    "\n",
    "**Beispiel: Kontante Beschleunigung**   \n",
    "\n",
    "Die GEschwindigkeit $v(t)$ eines Masseteilchens kann folgendermaßen berechnet werden:\n",
    "\n",
    "$ v(t)= v_o\\,\\cdot + a\\,\\cdot t $ \n",
    "\n",
    "Hierbei sind $v_0$ die Anfangsgeschwindigkeit (zum Zeitpunkt $t=0$) und $a$ die Beschleunigung.\n"
   ]
  },
  {
   "cell_type": "code",
   "execution_count": 3,
   "metadata": {},
   "outputs": [
    {
     "data": {
      "application/vnd.jupyter.widget-view+json": {
       "model_id": "97b192d13238423bb775e1d5937107fb",
       "version_major": 2,
       "version_minor": 0
      },
      "text/plain": [
       "interactive(children=(FloatSlider(value=0.0, description='v0', max=25.0, step=0.5), FloatSlider(value=0.0, des…"
      ]
     },
     "metadata": {},
     "output_type": "display_data"
    },
    {
     "data": {
      "text/plain": [
       "<function __main__.v(v0, a)>"
      ]
     },
     "execution_count": 3,
     "metadata": {},
     "output_type": "execute_result"
    }
   ],
   "source": [
    "# plt.rcParams[\"figure.figsize\"] = (10,10)\n",
    "def v(v0,a):\n",
    "\n",
    "    t = np.linspace(0, 10)\n",
    "    v = v0 + a*t\n",
    "    plt.plot(t, v, 'r', linewidth=3)\n",
    "    plt.ylim(-5, 35)\n",
    "    plt.xlabel('Zeit in s')\n",
    "    plt.ylabel('Geschwindigkeit in m/s')\n",
    "    plt.title('Geschwindigkeit-Zeit-Diagramm')\n",
    "    plt.grid(color='k', linestyle='-', linewidth=1)\n",
    "    \n",
    "interact(v,\n",
    "         v0 = widgets.FloatSlider(value=0, min=0, max=25, step=0.5), \n",
    "         a = widgets.FloatSlider(value=0, min=-10, max=10.0, step=0.1)\n",
    "        )"
   ]
  },
  {
   "cell_type": "markdown",
   "metadata": {},
   "source": [
    "## Knowledge Check(s)\n",
    "### Senkrechter Wurf\n",
    "Sie stehen auf einem Turm der Höhe $x_0=7\\,\\text{m}$ und werfen einen kleinen Stein mit der Geschwindigkeit $v_0=5 \\text{m/s}$ senkrecht nach oben. (a) Nach welcher Zeit erreicht der Stein seine maximale Höhe? (b) Mit welcher Geschwindigkeit trifft der Stein auf dem Boden ($x=0$) auf?\n",
    "\n",
    "Die Anfangshöhe (variable `x0`), die Anfangsgeschwindigkeit (variable `v0`) und die (konstante) Beschleunigung (variable `a`) können mithilfe der Schieberegler eingestellt werden.\n",
    "\n",
    "### Beschleunigung aus dem Stand und Elastizität eines Autos\n",
    "(a) Sie lesen in der Herstellerangabe, dass ein Auto aus dem Stand in der Zeit $t=8\\,\\text{s}$ bis zur Geschwindigkeit $v=100\\,\\text{km/h}$ beschleunigt. Berechnen Sie die Beschleunigung $a$ in der Einheit $\\text{m}/\\text{s}^2$. Prüfen Sie, ob Ihr Ergebnis von der Größenordnung zu den Werten passen, die Sie im Geschwindigkeit-Zeit-Diagramm ablesen können.\n",
    "\n",
    "(b) Neben der Angabe für die Beschleunigung (0 - 100 km/h) finden Sie auch einen Wert für die Elastizität, der sich auf die Beschleunigung von 80 km/h auf 120 km/h bezieht. Berechnen Sie die Beschleunigung $a$ in der Einheit $\\text{m}/\\text{s}^2$, wenn der Wert der Elastizität mit $t=4,2\\,\\text{s}$ angegeben wird.\n",
    "\n",
    "Die Anfangsgeschwindigkeit (variable `v0`) und die Beschleunigung (variable `a`) können mithilfe der Schieberegler eingestellt werden."
   ]
  },
  {
   "cell_type": "markdown",
   "metadata": {},
   "source": [
    "Oktober 2020 (CC BY-SA 4.0)"
   ]
  }
 ],
 "metadata": {
  "celltoolbar": "Slideshow",
  "kernelspec": {
   "display_name": "Python 3",
   "language": "python",
   "name": "python3"
  },
  "language_info": {
   "codemirror_mode": {
    "name": "ipython",
    "version": 3
   },
   "file_extension": ".py",
   "mimetype": "text/x-python",
   "name": "python",
   "nbconvert_exporter": "python",
   "pygments_lexer": "ipython3",
   "version": "3.6.8"
  }
 },
 "nbformat": 4,
 "nbformat_minor": 2
}
