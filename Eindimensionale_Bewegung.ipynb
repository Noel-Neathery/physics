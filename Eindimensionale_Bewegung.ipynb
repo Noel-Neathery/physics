{
 "cells": [
  {
   "cell_type": "markdown",
   "metadata": {
    "slideshow": {
     "slide_type": "slide"
    }
   },
   "source": [
    "# Bewegung in einer Dimension\n",
    "\n",
    "[P. Kersten](https://www.hshl.de/personen/prof-dr-ing-peter-kersten), [J. Jeschonowski](https://www.xing.com/profile/Jule_Jeschonowski/cv), [L.P. Kamegne-Kamdem](https://www.linkedin.com/in/leger-paco-kamegne-kamdem-07ba39184/), [N.B. Neathery](https://www.linkedin.com/in/noel-neathery-6371561a6/) und D.M. Weis\n",
    "\n",
    "[Hochschule Hamm-Lippstadt](https://www.hshl.de), Marker Allee 76–78, D-59063 Hamm"
   ]
  },
  {
   "cell_type": "markdown",
   "metadata": {
    "slideshow": {
     "slide_type": "slide"
    }
   },
   "source": [
    "## Inhalt\n",
    "- Weg-Zeit-Diagramm\n",
    "- Geschwindigkeit-Zeit-Diagramm"
   ]
  },
  {
   "cell_type": "code",
   "execution_count": 1,
   "metadata": {
    "slideshow": {
     "slide_type": "notes"
    }
   },
   "outputs": [],
   "source": [
    "%matplotlib inline\n",
    "import numpy as np\n",
    "import sympy as sp\n",
    "import math as m\n",
    "import matplotlib.pyplot as plt\n",
    "import ipywidgets as widgets\n",
    "import scipy.optimize\n",
    "from ipywidgets import interact\n",
    "from sympy import symbols\n",
    "from sympy.plotting import plot3d\n",
    "from matplotlib.pyplot import figure\n",
    "from scipy.optimize import curve_fit\n",
    "from IPython.display import Markdown, clear_output, display, HTML"
   ]
  },
  {
   "cell_type": "code",
   "execution_count": 2,
   "metadata": {},
   "outputs": [
    {
     "data": {
      "text/html": [
       "<script>$(\"div.input\").hide()</script>"
      ],
      "text/plain": [
       "<IPython.core.display.HTML object>"
      ]
     },
     "metadata": {},
     "output_type": "display_data"
    },
    {
     "data": {
      "application/vnd.jupyter.widget-view+json": {
       "model_id": "068c4892f61f4cb59b9e5390023b3efd",
       "version_major": 2,
       "version_minor": 0
      },
      "text/plain": [
       "ToggleButton(value=False, description='Quellcode anzeigen')"
      ]
     },
     "metadata": {},
     "output_type": "display_data"
    }
   ],
   "source": [
    "javascript_funktion = {False: \"hide()\", True: \"show()\"}\n",
    "schaltflaeche  = {False: \"Quellcode anzeigen\", True: \"Quellcode verbergen\"}\n",
    "\n",
    "\n",
    "def quellcode_umschalten(state):\n",
    "\n",
    "    output_string = \"<script>$(\\\"div.input\\\").{}</script>\"\n",
    "    output_args   = (javascript_funktion[state],)\n",
    "    output        = output_string.format(*output_args)\n",
    "    display(HTML(output))\n",
    "\n",
    "\n",
    "def schaltflaeche_aktion(value):\n",
    "\n",
    "    state = value.new\n",
    "    quellcode_umschalten(state)\n",
    "    value.owner.description = schaltflaeche[state]\n",
    "\n",
    "\n",
    "state = False\n",
    "quellcode_umschalten(state)\n",
    "\n",
    "button = widgets.ToggleButton(state, description = schaltflaeche[state])\n",
    "button.observe(schaltflaeche_aktion, \"value\")\n",
    "\n",
    "display(button)"
   ]
  },
  {
   "cell_type": "markdown",
   "metadata": {
    "slideshow": {
     "slide_type": "slide"
    }
   },
   "source": [
    "## Weg-Zeit-Diagramm\n",
    "\n",
    "**Bewegung in einer Raumdimension mit konstanter Beschleunigung**   \n",
    "\n",
    "Den Ort $x(t)$ eines Masseteilchens kann (bei konstanter Beschleunigung) folgendermaßen berechnet werden:\n",
    "\n",
    "$ x(t)= x_0 + v_o\\,\\cdot t + \\frac{1}{2} a\\,\\cdot t^2 $ \n",
    "\n",
    "Hierbei sind $x_0$ der Anfangsort und $v_0$ die Anfangsgeschwindigkeit (zum Zeitpunkt $t=0$) sowie $a$ die (konstante) Beschleunigung und $t$ die Zeit."
   ]
  },
  {
   "cell_type": "code",
   "execution_count": 3,
   "metadata": {
    "slideshow": {
     "slide_type": "subslide"
    }
   },
   "outputs": [
    {
     "data": {
      "application/vnd.jupyter.widget-view+json": {
       "model_id": "2d217745507d4743b9c57c4fb44dab3e",
       "version_major": 2,
       "version_minor": 0
      },
      "text/plain": [
       "interactive(children=(FloatSlider(value=0.0, description='x0', max=10.0, step=0.5), FloatSlider(value=0.0, des…"
      ]
     },
     "metadata": {},
     "output_type": "display_data"
    },
    {
     "data": {
      "text/plain": [
       "<function __main__.x(x0, v0, a)>"
      ]
     },
     "execution_count": 3,
     "metadata": {},
     "output_type": "execute_result"
    }
   ],
   "source": [
    "# plt.rcParams[\"figure.figsize\"] = (10,10)\n",
    "def x(x0,v0,a):\n",
    "\n",
    "    t = np.linspace(0, 4)\n",
    "    x = x0 + v0*t + 1/2*a*t**2\n",
    "    plt.plot(t, x, 'r', linewidth=3)\n",
    "    plt.ylim(-5, 10)\n",
    "    plt.xlabel('Zeit in s')\n",
    "    plt.ylabel('Weg in m')\n",
    "    plt.title('Weg-Zeit-Diagramm')\n",
    "    plt.grid(color='k', linestyle='-', linewidth=1)\n",
    "    \n",
    "interact(x,\n",
    "         v0 = widgets.FloatSlider(value=0, min=-5.0, max=5.0, step=0.5), \n",
    "         x0 = widgets.FloatSlider(value=0, min=0, max=10.0, step=0.5),\n",
    "         a = widgets.FloatSlider(value=0, min=-10, max=10.0, step=0.1)\n",
    "        )"
   ]
  },
  {
   "cell_type": "markdown",
   "metadata": {},
   "source": [
    "## Knowledge Check(s)\n",
    "Sie stehen auf einem Turm der Höhe $x_0=7\\,\\text{m}$ und werfen einen kleinen Stein mit der Geschwindigkeit $v_0=5 \\text{m/s}$ senkrecht nach oben (der Luftwiderstand wird vernachlässigt). \n",
    "\n",
    "- Nach welcher Zeit erreicht der Stein eine maximale Steighöhe?\n",
    "- Nach welcher Zeit trifft der Stein auf dem Boden bei $x=0$ auf?\n",
    "\n",
    "Die Anfangshöhe(Variable `x0`), die Anfangsgeschwindigkeit (Variable `v0`) und die Beschleunigung (Variable `a`) können mithilfe der Schieberegler eingestellt werden."
   ]
  },
  {
   "cell_type": "markdown",
   "metadata": {},
   "source": [
    "## Geschwindigkeit-Zeit-Diagramm\n",
    "\n",
    "**Beispiel: Kontante Beschleunigung**   \n",
    "\n",
    "Die Geschwindigkeit $v(t)$ eines Masseteilchens kann folgendermaßen berechnet werden:\n",
    "\n",
    "$ v(t)= v_o + a\\,\\cdot t $ \n",
    "\n",
    "Hierbei sind $v_0$ die Anfangsgeschwindigkeit (zum Zeitpunkt $t=0$) und $a$ die (konstante) Beschleunigung.\n"
   ]
  },
  {
   "cell_type": "code",
   "execution_count": 4,
   "metadata": {},
   "outputs": [
    {
     "data": {
      "application/vnd.jupyter.widget-view+json": {
       "model_id": "e6f44785660446b996bd2b6659cbb371",
       "version_major": 2,
       "version_minor": 0
      },
      "text/plain": [
       "interactive(children=(FloatSlider(value=0.0, description='v0', max=25.0, step=0.5), FloatSlider(value=0.0, des…"
      ]
     },
     "metadata": {},
     "output_type": "display_data"
    },
    {
     "data": {
      "text/plain": [
       "<function __main__.v(v0, a)>"
      ]
     },
     "execution_count": 4,
     "metadata": {},
     "output_type": "execute_result"
    }
   ],
   "source": [
    "# plt.rcParams[\"figure.figsize\"] = (10,10)\n",
    "def v(v0,a):\n",
    "\n",
    "    t = np.linspace(0, 10)\n",
    "    v = v0 + a*t\n",
    "    plt.plot(t, v, 'r', linewidth=3)\n",
    "    plt.ylim(-5, 35)\n",
    "    plt.xlabel('Zeit in s')\n",
    "    plt.ylabel('Geschwindigkeit in m/s')\n",
    "    plt.title('Geschwindigkeit-Zeit-Diagramm')\n",
    "    plt.grid(color='k', linestyle='-', linewidth=1)\n",
    "    \n",
    "interact(v,\n",
    "         v0 = widgets.FloatSlider(value=0, min=0, max=25, step=0.5), \n",
    "         a = widgets.FloatSlider(value=0, min=-10, max=10.0, step=0.1)\n",
    "        )"
   ]
  },
  {
   "cell_type": "markdown",
   "metadata": {},
   "source": [
    "## Knowledge Check(s)\n",
    "### Senkrechter Wurf\n",
    "Sie stehen auf einem Turm der Höhe $x_0=7\\,\\text{m}$ und werfen einen kleinen Stein mit der Geschwindigkeit $v_0=5\\, \\text{m/s}$ senkrecht nach oben. (a) Nach welcher Zeit erreicht der Stein eine maximale Höhe? (b) Mit welcher Geschwindigkeit trifft der Stein auf dem Boden ($x=0$) auf?\n",
    "\n",
    "Die Anfangshöhe (variable `x0`), die Anfangsgeschwindigkeit (variable `v0`) und die (konstante) Beschleunigung (variable `a`) können mithilfe der Schieberegler eingestellt werden.\n",
    "\n",
    "### Beschleunigung aus dem Stand und Elastizität eines Autos\n",
    "(a) Sie lesen in der Herstellerangabe, dass ein Auto in $t=8\\,\\text{s}$ aus dem Stand ($v_0=0$) auf eine Geschwindigkeit von $v=100\\,\\text{km/h}$ beschleunigt. Berechnen Sie die Beschleunigung $a$ in der Einheit $\\text{m}/\\text{s}^2$. Prüfen Sie, ob Ihr Ergebnis zu dem Wert passt, den Sie im Geschwindigkeit-Zeit-Diagramm ablesen können.\n",
    "\n",
    "(b) Neben der Angabe für die Beschleunigung (0 - 100 km/h) finden Sie auch einen Wert für die Elastizität, der sich in diesem Fall auf die Zeit bezieht, in der das Auto von einer Geschwindigkeit von 80 km/h auf 120 km/h beschleubigt. Berechnen Sie die Beschleunigung $a$ in der Einheit $\\text{m}/\\text{s}^2$, wenn der Wert der Elastizität mit $t=4,2\\,\\text{s}$ angegeben wird.\n",
    "\n",
    "Die Anfangsgeschwindigkeit (Variable `v0`) und die Beschleunigung (Variable `a`) können mithilfe der Schieberegler eingestellt werden."
   ]
  },
  {
   "cell_type": "markdown",
   "metadata": {},
   "source": [
    "Oktober 2020 (CC BY-SA 4.0)"
   ]
  },
  {
   "cell_type": "code",
   "execution_count": null,
   "metadata": {},
   "outputs": [],
   "source": []
  }
 ],
 "metadata": {
  "celltoolbar": "Slideshow",
  "kernelspec": {
   "display_name": "Python 3",
   "language": "python",
   "name": "python3"
  },
  "language_info": {
   "codemirror_mode": {
    "name": "ipython",
    "version": 3
   },
   "file_extension": ".py",
   "mimetype": "text/x-python",
   "name": "python",
   "nbconvert_exporter": "python",
   "pygments_lexer": "ipython3",
   "version": "3.6.8"
  }
 },
 "nbformat": 4,
 "nbformat_minor": 2
}
