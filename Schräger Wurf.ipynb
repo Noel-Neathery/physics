{
 "cells": [
  {
   "cell_type": "markdown",
   "metadata": {
    "slideshow": {
     "slide_type": "slide"
    }
   },
   "source": [
    "## Schräger Wurf\n",
    "[P. Kersten](https://www.hshl.de/personen/prof-dr-ing-peter-kersten), J. Jeschonowski, L.P. Kamegne-Kamdem, N.B. Neathery und D.M. Weis\n",
    "\n",
    "[Hochschule Hamm-Lippstadt](https://www.hshl.de), Marker Allee 76–78, D-59063 Hamm"
   ]
  },
  {
   "cell_type": "markdown",
   "metadata": {
    "slideshow": {
     "slide_type": "slide"
    }
   },
   "source": [
    "## Inhalt\n",
    "- Parametrische Darstellung"
   ]
  },
  {
   "cell_type": "code",
   "execution_count": 1,
   "metadata": {
    "slideshow": {
     "slide_type": "notes"
    }
   },
   "outputs": [],
   "source": [
    "%matplotlib inline\n",
    "import numpy as np\n",
    "import sympy as sp\n",
    "import math as m\n",
    "import matplotlib.pyplot as plt\n",
    "import ipywidgets as widgets\n",
    "\n",
    "from ipywidgets import interact\n",
    "from sympy import symbols\n",
    "from sympy.plotting import plot3d\n",
    "from matplotlib.pyplot import figure"
   ]
  },
  {
   "cell_type": "markdown",
   "metadata": {
    "slideshow": {
     "slide_type": "slide"
    }
   },
   "source": [
    "## Parametrische Darstellung\n",
    "\n",
    "Wir wollen die Wurfbahn einer Masse berechnen und visualisieren. Die Masse weist eine definierte Geschwindigkeit und einen definiertem Wurfwinkel auf. Wir nehmen eine Anfangsgeschwindigkeit von $v_0=25\\,\\text{m/s}$ an. Die Bewegung in $x$- and $y$-Richtung kann beschrieben werden mit:\n",
    "\n",
    "$x(t)=x_0+v_{0,x}\\,t$   \n",
    "$y(t)=y_0+v_{0,y}\\,t-\\frac{1}{2}\\,g\\,t^2$\n",
    "\n",
    "Hierbei ist $v_{0,x}$ die horizontale Komponente der Anfangsgeschwindigkeit, $v_{0,y}$ die vertikale Komponente, \n",
    "$t$ die Zeit und $g$ der Betrag der Erdbeschleunigung. Die Geschwindigkeitskomponenten $v_{0,x}$ und $v_{0,y}$ können berechnet werden mit:\n",
    "\n",
    "$v_{0,x}=|v_0|\\,\\text{cos}\\,\\theta$   \n",
    "$v_{0,y}=|v_0|\\,\\text{sin}\\,\\theta$\n",
    "\n",
    "Hierbei ist $\\theta$ der Wurfwinkel. Wir wollen verschiedene Werte für die Anfangshöhe $y_0$ bei einer festen Position $x_0=0$ untersuchen."
   ]
  },
  {
   "cell_type": "code",
   "execution_count": 7,
   "metadata": {
    "slideshow": {
     "slide_type": "subslide"
    }
   },
   "outputs": [
    {
     "data": {
      "application/vnd.jupyter.widget-view+json": {
       "model_id": "dbf3b7e2b830414eb2d20f25fca940af",
       "version_major": 2,
       "version_minor": 0
      },
      "text/plain": [
       "interactive(children=(IntSlider(value=30, description='theta', max=90), IntSlider(value=25, description='v', m…"
      ]
     },
     "metadata": {},
     "output_type": "display_data"
    },
    {
     "data": {
      "text/plain": [
       "<function __main__.f(theta, v, y0)>"
      ]
     },
     "execution_count": 7,
     "metadata": {},
     "output_type": "execute_result"
    }
   ],
   "source": [
    "g = 9.81\n",
    "t1 = np.arange (0,15,0.1)\n",
    "\n",
    "def f(theta,v,y0):\n",
    "    vx = v*np.cos(np.deg2rad(theta))\n",
    "    vy = v*np.sin(np.deg2rad(theta))\n",
    "    x = vx*t1\n",
    "    y = y0+(vy*t1)-1/2*g*t1**2\n",
    "    plt.plot(x,y,'b',lw=2)\n",
    "    plt.ylim(0, 40)\n",
    "    plt.xlim(0, 80)\n",
    "    plt.grid()\n",
    "    plt.xlabel('x in m')\n",
    "    plt.ylabel('y in m')\n",
    "    plt.title('Flugbahn einer Masse')\n",
    "\n",
    "interact(f, theta = widgets.IntSlider(value=30, min=0, max=90, step=1), \n",
    "            v = widgets.IntSlider(value=25, min=10, max=30, step=1),\n",
    "            y0 = widgets.IntSlider(value=0, min=0, max=10, step=2))    "
   ]
  }
 ],
 "metadata": {
  "celltoolbar": "Slideshow",
  "kernelspec": {
   "display_name": "Python 3",
   "language": "python",
   "name": "python3"
  },
  "language_info": {
   "codemirror_mode": {
    "name": "ipython",
    "version": 3
   },
   "file_extension": ".py",
   "mimetype": "text/x-python",
   "name": "python",
   "nbconvert_exporter": "python",
   "pygments_lexer": "ipython3",
   "version": "3.6.8"
  }
 },
 "nbformat": 4,
 "nbformat_minor": 2
}
