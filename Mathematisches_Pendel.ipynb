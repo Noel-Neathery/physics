{
 "cells": [
  {
   "cell_type": "markdown",
   "metadata": {
    "slideshow": {
     "slide_type": "slide"
    }
   },
   "source": [
    "# Mathematisches Pendel\n",
    "\n",
    "[P. Kersten](https://www.hshl.de/personen/prof-dr-ing-peter-kersten), [J. Jeschonowski](https://www.xing.com/profile/Jule_Jeschonowski/cv), [L.P. Kamegne-Kamdem](https://www.linkedin.com/in/leger-paco-kamegne-kamdem-07ba39184/), [N.B. Neathery](https://www.linkedin.com/in/noel-neathery-6371561a6/) und D.M. Weis\n",
    "\n",
    "[Hochschule Hamm-Lippstadt](https://www.hshl.de), Marker Allee 76–78, D-59063 Hamm"
   ]
  },
  {
   "cell_type": "markdown",
   "metadata": {
    "slideshow": {
     "slide_type": "slide"
    }
   },
   "source": [
    "## Inhalt\n",
    "- Experimentelle Bestimmung der Schwingungsdauer $T$\n",
    "- Eine Formel für die Schwingungsdauer $T$ entwickeln\n",
    "- Den Wert für die Erdbeschleunigung $g$ experimentell ermitteln"
   ]
  },
  {
   "cell_type": "code",
   "execution_count": 1,
   "metadata": {
    "slideshow": {
     "slide_type": "notes"
    }
   },
   "outputs": [],
   "source": [
    "%matplotlib inline\n",
    "import numpy as np\n",
    "import sympy as sp\n",
    "import math as m\n",
    "import matplotlib.pyplot as plt\n",
    "import ipywidgets as widgets\n",
    "import scipy.optimize\n",
    "from ipywidgets import interact\n",
    "from sympy import symbols\n",
    "from sympy.plotting import plot3d\n",
    "from matplotlib.pyplot import figure\n",
    "from scipy.optimize import curve_fit\n",
    "from IPython.display import Markdown, clear_output, display, HTML"
   ]
  },
  {
   "cell_type": "code",
   "execution_count": 2,
   "metadata": {},
   "outputs": [
    {
     "data": {
      "text/html": [
       "<script>$(\"div.input\").hide()</script>"
      ],
      "text/plain": [
       "<IPython.core.display.HTML object>"
      ]
     },
     "metadata": {},
     "output_type": "display_data"
    },
    {
     "data": {
      "application/vnd.jupyter.widget-view+json": {
       "model_id": "75828f7b9ccd44a89ca7da4866e6544d",
       "version_major": 2,
       "version_minor": 0
      },
      "text/plain": [
       "ToggleButton(value=False, description='Quellcode anzeigen')"
      ]
     },
     "metadata": {},
     "output_type": "display_data"
    }
   ],
   "source": [
    "javascript_funktion = {False: \"hide()\", True: \"show()\"}\n",
    "schaltflaeche  = {False: \"Quellcode anzeigen\", True: \"Quellcode verbergen\"}\n",
    "\n",
    "\n",
    "def quellcode_umschalten(state):\n",
    "\n",
    "    output_string = \"<script>$(\\\"div.input\\\").{}</script>\"\n",
    "    output_args   = (javascript_funktion[state],)\n",
    "    output        = output_string.format(*output_args)\n",
    "    display(HTML(output))\n",
    "\n",
    "\n",
    "def schaltflaeche_aktion(value):\n",
    "\n",
    "    state = value.new\n",
    "    quellcode_umschalten(state)\n",
    "    value.owner.description = schaltflaeche[state]\n",
    "\n",
    "\n",
    "state = False\n",
    "quellcode_umschalten(state)\n",
    "\n",
    "button = widgets.ToggleButton(state, description = schaltflaeche[state])\n",
    "button.observe(schaltflaeche_aktion, \"value\")\n",
    "\n",
    "display(button)"
   ]
  },
  {
   "cell_type": "markdown",
   "metadata": {
    "slideshow": {
     "slide_type": "slide"
    }
   },
   "source": [
    "## Experimentelle Bestimmung der Schwingungsdauer $T$\n",
    "\n",
    "Wir wollen die Schwingungsdauer $T$ eines mathematischen Pendels experimentell ermitteln. Gemäß der durchgeführten Dimensionsanalyse erwarten wir folgenden Zusammenhang:\n",
    "\n",
    "\n",
    "$T\\sim \\sqrt{\\frac{l}{g}}$\n",
    "\n",
    "Hierbei sind $l$ die Fadenlänge und $g$ die Erdbeschleunigung. Diesen Zusammenhang wollen wir experimentell mit einfachen Mitteln (ein kleines Gewicht, ein Zwirnsfaden, ein Maßband und eine Stoppuhr reichen aus) folgendermaßen überprüfen:\n",
    "\n",
    "- Wir messen die Schwingungsdauer $T$ für die Fadenlängen 0,50 m, 0,75 m, 1,00 m, 1,25 m und 1,5 m.\n",
    "\n",
    "- Um eine höhere Genauigkeit bei der Zeitmessung zu erzielen, messen wir 10 volle Schwingungen (also jeweil hin- und zurück).\n",
    "\n",
    "- Schreiben Sie die Meßwerte für die Fadenlänge (in der Einheit m) in den Vektor (variable `l`). \n",
    "\n",
    "- Schreiben Sie die Meßwerte für die Schwingungsdauer $T_{10}$ (in der Einheit s) in den Vektor (variable `T10`).\n",
    "\n",
    "**Tipp**: Bei der EIngabe bitte ein Punkt (statt des Kommas) für das Dezimaltrennzeichen verwenden. Wenn Sie neue Werte eingeben wollen einfach erneut mit der Maus auf das Eingabefeld klicken und die Schaltfläche Run (>|) oder Restart and Run All Cells (>>) wählen."
   ]
  },
  {
   "cell_type": "code",
   "execution_count": 3,
   "metadata": {
    "slideshow": {
     "slide_type": "subslide"
    }
   },
   "outputs": [
    {
     "name": "stdout",
     "output_type": "stream",
     "text": [
      "Eingabefeld\n",
      "\n",
      "Bei der Eingabe bitte ein Punkt (statt des Kommas) für das Dezimaltrennzeichen verwenden.\n",
      "  Zeit für 10 Schwingungen in s bei der Fadenlänge 0,50 m  = 12\n",
      "  Zeit für 10 Schwingungen in s bei der Fadenlänge 0,75 m  = 12\n",
      "  Zeit für 10 Schwingungen in s bei der Fadenlänge 1,00 m  = 12\n",
      "  Zeit für 10 Schwingungen in s bei der Fadenlänge 1,25 m  = 12\n",
      "  Zeit für 10 Schwingungen in s bei der Fadenlänge 1,50 m  = 12\n"
     ]
    }
   ],
   "source": [
    "print(\"Eingabefeld\")\n",
    "print(\"\")\n",
    "print(\"Bei der Eingabe bitte ein Punkt (statt des Kommas) für das Dezimaltrennzeichen verwenden.\")\n",
    "T1 = float(input(\"  Zeit für 10 Schwingungen in s bei der Fadenlänge 0,50 m  = \"))\n",
    "T2 = float(input(\"  Zeit für 10 Schwingungen in s bei der Fadenlänge 0,75 m  = \"))\n",
    "T3 = float(input(\"  Zeit für 10 Schwingungen in s bei der Fadenlänge 1,00 m  = \"))\n",
    "T4 = float(input(\"  Zeit für 10 Schwingungen in s bei der Fadenlänge 1,25 m  = \"))\n",
    "T5 = float(input(\"  Zeit für 10 Schwingungen in s bei der Fadenlänge 1,50 m  = \"))"
   ]
  },
  {
   "cell_type": "code",
   "execution_count": 4,
   "metadata": {},
   "outputs": [],
   "source": [
    "l = np.array([0.5, 0.75, 1.0, 1.25, 1.5])\n",
    "T10 = np.array([T1, T2, T3, T4, T5])\n",
    "\n",
    "T = T10/10"
   ]
  },
  {
   "cell_type": "markdown",
   "metadata": {},
   "source": [
    "Nun können wir die Meßwerte grafisch darstellen."
   ]
  },
  {
   "cell_type": "code",
   "execution_count": 5,
   "metadata": {},
   "outputs": [
    {
     "data": {
      "text/plain": [
       "Text(0.5, 1.0, 'Das mathematische Pendel')"
      ]
     },
     "execution_count": 5,
     "metadata": {},
     "output_type": "execute_result"
    },
    {
     "data": {
      "image/png": "[encoded data removed]",
      "text/plain": [
       "<Figure size 432x288 with 1 Axes>"
      ]
     },
     "metadata": {
      "needs_background": "light"
     },
     "output_type": "display_data"
    }
   ],
   "source": [
    "plt.plot(l,T,'o-r',lw=2)\n",
    "plt.grid(color='k', linestyle='-', linewidth=1)\n",
    "plt.ylim(1.0, 3)\n",
    "plt.xlim(0.4, 1.6)\n",
    "plt.xlabel('Länge in m')\n",
    "plt.ylabel('Schwingungsdauer in s')\n",
    "plt.title('Das mathematische Pendel')"
   ]
  },
  {
   "cell_type": "markdown",
   "metadata": {},
   "source": [
    "\n",
    "## Eine Formel für die Schwingungsdauer $T$ entwickeln\n",
    "\n",
    "Mit Hilfe der Dimensionsanalyse vermuten wir folgende Formel zur Berechnung der Schwingungsdauer $T$:\n",
    "\n",
    "$T\\sim \\sqrt{\\frac{l}{g}}$ \n",
    "\n",
    "Hierbei sind $l$ die Fadenlänge und $g$ die Erdbeschleunigung. Wir erwarten daher, dass sich die Messwerte gemäß der Funktion $T= \\alpha \\cdot l^{\\beta}$ verhalten. Die Parameter $\\alpha$ und $\\beta$ können wir mit Hilfe einer Regressionsanalyse bestimmen."
   ]
  },
  {
   "cell_type": "code",
   "execution_count": 6,
   "metadata": {},
   "outputs": [
    {
     "name": "stdout",
     "output_type": "stream",
     "text": [
      "Fitparameter alpha =  1.2000000007725016\n",
      "Fitparameter beta =  2.8451979624489353e-09\n"
     ]
    }
   ],
   "source": [
    "def fit(x,a,b):\n",
    "    return a * x**b\n",
    "\n",
    "params, covariance = curve_fit(f = fit, xdata = l, ydata = T)\n",
    "\n",
    "print('Fitparameter alpha = ', params[0])\n",
    "print('Fitparameter beta = ', params[1])"
   ]
  },
  {
   "cell_type": "markdown",
   "metadata": {},
   "source": [
    "## Den Wert für die Erdbeschleunigung $g$ experimentell ermitteln\n",
    "\n",
    "In Lehrbüchern finden wir folgende Formel für die Schwingungsdauer $T$ eines mathematischen Pendels:\n",
    "\n",
    "$T = 2 \\pi \\sqrt{\\frac{l}{g}}$\n",
    "\n",
    "Hierbei wieder $l$ die Fadenlänge und $g$ die Erdbeschleunigung. Diese Formel ermöglicht uns, die Erdbeschleunigung $g$ mit Hilfe einer Regressionsanalyse aus unseren Messwerten zu ermitteln.\n",
    "\n",
    "Hierzu formen wir den Ausdruck für $T$ folgendermaßen um:   \n",
    "$T = 2 \\pi \\cdot ({\\frac{1}{g}})^{0,5} \\cdot (l)^{0,5}$\n",
    "\n",
    "Mit der Regression wird nun berechnet, welcher optimaler Wert für $g$ resultiert, wenn sich die Meßwerte optimal an die exakte Formel anpassen sollen."
   ]
  },
  {
   "cell_type": "code",
   "execution_count": 7,
   "metadata": {},
   "outputs": [
    {
     "name": "stdout",
     "output_type": "stream",
     "text": [
      "Ihr experimentell bestimmter Wert für die Erdbeschleunigung g = 28.36150167701063\n"
     ]
    }
   ],
   "source": [
    "def fit1(x,g):\n",
    "    return 2*m.pi*x**0.5 * (1/g)**0.5\n",
    "\n",
    "params, covariance = curve_fit(f = fit1, xdata = l, ydata = T)\n",
    "print('Ihr experimentell bestimmter Wert für die Erdbeschleunigung g =', params[0])"
   ]
  },
  {
   "cell_type": "markdown",
   "metadata": {},
   "source": [
    "## Knowledge Check(s)\n",
    "### Das Sekundenpendel\n",
    "\n",
    "Unter einem Sekundenpendel versteht man ein Pendel, dessen halbe Schwingungsdauer eine Sekunde beträgt ($T_{1/2}=1\\,\\text{s}$). Berechnen Sie die Fadenlänge $l$ des Sekundenpendels. Da dieses Experiment auf der Erde (nahe der Erdoberfäche) durchgeführt wird, nehmen wir für die Erdbeschleunigung einen Wert von $g=9,81\\,\\text{m}/\\text{s}^2$ an.\n",
    "\n",
    "\n",
    "### Pendel auf dem Mond\n",
    "Bei einer der nächsten Mondmissionen wird ein Pendel mit der Fadenlänge $l=1\\,\\text{m}$ mitgenommen. Welche Schwingungsdauer erwarten Sie, wenn Sie mit diesem Pendel auf der Mondoberfläche experimentieren. Für die Schwerebeschleunigung nahe der Mondoberfläche nehmen wir einen Wert von $1,6\\,\\text{m}/\\text{s}^2$ an.\n",
    "\n",
    "\n",
    "### Das Foucault’sche Pendel \n",
    "\n",
    "Im Erlebnismuseum [PHÄNOMENTA](https://www.phaenomenta.de/neu/) in Lüdenscheid gibt es ein Pendel, das als [Foucault’sches Pendel](https://www.phaenomenta.de/neu/erleben/180-exponate/im-takt-der-zeit/foucaultsches-pendel/) ausgelegt ist und in alle Richtungen frei schwingen kann, mit einer Fadenlänge von $27\\,\\text{m}$ und einer Masse von $m=30\\,\\text{kg}$. Berechnen Sie die Schwingungsdauer $T$."
   ]
  },
  {
   "cell_type": "markdown",
   "metadata": {},
   "source": [
    "Oktober 2020 (CC BY-SA 4.0)"
   ]
  }
 ],
 "metadata": {
  "celltoolbar": "Slideshow",
  "kernelspec": {
   "display_name": "Python 3",
   "language": "python",
   "name": "python3"
  },
  "language_info": {
   "codemirror_mode": {
    "name": "ipython",
    "version": 3
   },
   "file_extension": ".py",
   "mimetype": "text/x-python",
   "name": "python",
   "nbconvert_exporter": "python",
   "pygments_lexer": "ipython3",
   "version": "3.6.8"
  }
 },
 "nbformat": 4,
 "nbformat_minor": 2
}
